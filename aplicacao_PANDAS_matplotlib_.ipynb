{
  "nbformat": 4,
  "nbformat_minor": 0,
  "metadata": {
    "colab": {
      "provenance": [],
      "authorship_tag": "ABX9TyNZiqGUtauOu4VJ29ndeskb",
      "include_colab_link": true
    },
    "kernelspec": {
      "name": "python3",
      "display_name": "Python 3"
    },
    "language_info": {
      "name": "python"
    }
  },
  "cells": [
    {
      "cell_type": "markdown",
      "metadata": {
        "id": "view-in-github",
        "colab_type": "text"
      },
      "source": [
        "<a href=\"https://colab.research.google.com/github/dourivaljunior/Curso-de-Python/blob/main/aplicacao_PANDAS_matplotlib_.ipynb\" target=\"_parent\"><img src=\"https://colab.research.google.com/assets/colab-badge.svg\" alt=\"Open In Colab\"/></a>"
      ]
    },
    {
      "cell_type": "markdown",
      "source": [
        "# IMPORTANDO AS BIBLIOTECAS NECESSÁRIAS"
      ],
      "metadata": {
        "id": "KMV11n0PBRlk"
      }
    },
    {
      "cell_type": "code",
      "source": [
        "import numpy as np\n",
        "import pandas as pd\n",
        "import matplotlib.pyplot as plt"
      ],
      "metadata": {
        "id": "m4RdtJEDBXzi"
      },
      "execution_count": 1,
      "outputs": []
    },
    {
      "cell_type": "markdown",
      "source": [
        "# IMPORTANDO OS ARQUIVOS"
      ],
      "metadata": {
        "id": "EybaJ3pXBZJd"
      }
    },
    {
      "cell_type": "code",
      "source": [
        "from google.colab import files \n",
        "uploaded = files.upload()"
      ],
      "metadata": {
        "id": "256KrwRP_9xm",
        "colab": {
          "base_uri": "https://localhost:8080/",
          "height": 144
        },
        "outputId": "6299c102-0d5e-45b4-c339-1f0adecf32f2"
      },
      "execution_count": 2,
      "outputs": [
        {
          "output_type": "display_data",
          "data": {
            "text/plain": [
              "<IPython.core.display.HTML object>"
            ],
            "text/html": [
              "\n",
              "     <input type=\"file\" id=\"files-d968e4fd-35bd-4f98-8398-7a2eb29b9eba\" name=\"files[]\" multiple disabled\n",
              "        style=\"border:none\" />\n",
              "     <output id=\"result-d968e4fd-35bd-4f98-8398-7a2eb29b9eba\">\n",
              "      Upload widget is only available when the cell has been executed in the\n",
              "      current browser session. Please rerun this cell to enable.\n",
              "      </output>\n",
              "      <script>// Copyright 2017 Google LLC\n",
              "//\n",
              "// Licensed under the Apache License, Version 2.0 (the \"License\");\n",
              "// you may not use this file except in compliance with the License.\n",
              "// You may obtain a copy of the License at\n",
              "//\n",
              "//      http://www.apache.org/licenses/LICENSE-2.0\n",
              "//\n",
              "// Unless required by applicable law or agreed to in writing, software\n",
              "// distributed under the License is distributed on an \"AS IS\" BASIS,\n",
              "// WITHOUT WARRANTIES OR CONDITIONS OF ANY KIND, either express or implied.\n",
              "// See the License for the specific language governing permissions and\n",
              "// limitations under the License.\n",
              "\n",
              "/**\n",
              " * @fileoverview Helpers for google.colab Python module.\n",
              " */\n",
              "(function(scope) {\n",
              "function span(text, styleAttributes = {}) {\n",
              "  const element = document.createElement('span');\n",
              "  element.textContent = text;\n",
              "  for (const key of Object.keys(styleAttributes)) {\n",
              "    element.style[key] = styleAttributes[key];\n",
              "  }\n",
              "  return element;\n",
              "}\n",
              "\n",
              "// Max number of bytes which will be uploaded at a time.\n",
              "const MAX_PAYLOAD_SIZE = 100 * 1024;\n",
              "\n",
              "function _uploadFiles(inputId, outputId) {\n",
              "  const steps = uploadFilesStep(inputId, outputId);\n",
              "  const outputElement = document.getElementById(outputId);\n",
              "  // Cache steps on the outputElement to make it available for the next call\n",
              "  // to uploadFilesContinue from Python.\n",
              "  outputElement.steps = steps;\n",
              "\n",
              "  return _uploadFilesContinue(outputId);\n",
              "}\n",
              "\n",
              "// This is roughly an async generator (not supported in the browser yet),\n",
              "// where there are multiple asynchronous steps and the Python side is going\n",
              "// to poll for completion of each step.\n",
              "// This uses a Promise to block the python side on completion of each step,\n",
              "// then passes the result of the previous step as the input to the next step.\n",
              "function _uploadFilesContinue(outputId) {\n",
              "  const outputElement = document.getElementById(outputId);\n",
              "  const steps = outputElement.steps;\n",
              "\n",
              "  const next = steps.next(outputElement.lastPromiseValue);\n",
              "  return Promise.resolve(next.value.promise).then((value) => {\n",
              "    // Cache the last promise value to make it available to the next\n",
              "    // step of the generator.\n",
              "    outputElement.lastPromiseValue = value;\n",
              "    return next.value.response;\n",
              "  });\n",
              "}\n",
              "\n",
              "/**\n",
              " * Generator function which is called between each async step of the upload\n",
              " * process.\n",
              " * @param {string} inputId Element ID of the input file picker element.\n",
              " * @param {string} outputId Element ID of the output display.\n",
              " * @return {!Iterable<!Object>} Iterable of next steps.\n",
              " */\n",
              "function* uploadFilesStep(inputId, outputId) {\n",
              "  const inputElement = document.getElementById(inputId);\n",
              "  inputElement.disabled = false;\n",
              "\n",
              "  const outputElement = document.getElementById(outputId);\n",
              "  outputElement.innerHTML = '';\n",
              "\n",
              "  const pickedPromise = new Promise((resolve) => {\n",
              "    inputElement.addEventListener('change', (e) => {\n",
              "      resolve(e.target.files);\n",
              "    });\n",
              "  });\n",
              "\n",
              "  const cancel = document.createElement('button');\n",
              "  inputElement.parentElement.appendChild(cancel);\n",
              "  cancel.textContent = 'Cancel upload';\n",
              "  const cancelPromise = new Promise((resolve) => {\n",
              "    cancel.onclick = () => {\n",
              "      resolve(null);\n",
              "    };\n",
              "  });\n",
              "\n",
              "  // Wait for the user to pick the files.\n",
              "  const files = yield {\n",
              "    promise: Promise.race([pickedPromise, cancelPromise]),\n",
              "    response: {\n",
              "      action: 'starting',\n",
              "    }\n",
              "  };\n",
              "\n",
              "  cancel.remove();\n",
              "\n",
              "  // Disable the input element since further picks are not allowed.\n",
              "  inputElement.disabled = true;\n",
              "\n",
              "  if (!files) {\n",
              "    return {\n",
              "      response: {\n",
              "        action: 'complete',\n",
              "      }\n",
              "    };\n",
              "  }\n",
              "\n",
              "  for (const file of files) {\n",
              "    const li = document.createElement('li');\n",
              "    li.append(span(file.name, {fontWeight: 'bold'}));\n",
              "    li.append(span(\n",
              "        `(${file.type || 'n/a'}) - ${file.size} bytes, ` +\n",
              "        `last modified: ${\n",
              "            file.lastModifiedDate ? file.lastModifiedDate.toLocaleDateString() :\n",
              "                                    'n/a'} - `));\n",
              "    const percent = span('0% done');\n",
              "    li.appendChild(percent);\n",
              "\n",
              "    outputElement.appendChild(li);\n",
              "\n",
              "    const fileDataPromise = new Promise((resolve) => {\n",
              "      const reader = new FileReader();\n",
              "      reader.onload = (e) => {\n",
              "        resolve(e.target.result);\n",
              "      };\n",
              "      reader.readAsArrayBuffer(file);\n",
              "    });\n",
              "    // Wait for the data to be ready.\n",
              "    let fileData = yield {\n",
              "      promise: fileDataPromise,\n",
              "      response: {\n",
              "        action: 'continue',\n",
              "      }\n",
              "    };\n",
              "\n",
              "    // Use a chunked sending to avoid message size limits. See b/62115660.\n",
              "    let position = 0;\n",
              "    do {\n",
              "      const length = Math.min(fileData.byteLength - position, MAX_PAYLOAD_SIZE);\n",
              "      const chunk = new Uint8Array(fileData, position, length);\n",
              "      position += length;\n",
              "\n",
              "      const base64 = btoa(String.fromCharCode.apply(null, chunk));\n",
              "      yield {\n",
              "        response: {\n",
              "          action: 'append',\n",
              "          file: file.name,\n",
              "          data: base64,\n",
              "        },\n",
              "      };\n",
              "\n",
              "      let percentDone = fileData.byteLength === 0 ?\n",
              "          100 :\n",
              "          Math.round((position / fileData.byteLength) * 100);\n",
              "      percent.textContent = `${percentDone}% done`;\n",
              "\n",
              "    } while (position < fileData.byteLength);\n",
              "  }\n",
              "\n",
              "  // All done.\n",
              "  yield {\n",
              "    response: {\n",
              "      action: 'complete',\n",
              "    }\n",
              "  };\n",
              "}\n",
              "\n",
              "scope.google = scope.google || {};\n",
              "scope.google.colab = scope.google.colab || {};\n",
              "scope.google.colab._files = {\n",
              "  _uploadFiles,\n",
              "  _uploadFilesContinue,\n",
              "};\n",
              "})(self);\n",
              "</script> "
            ]
          },
          "metadata": {}
        },
        {
          "output_type": "stream",
          "name": "stdout",
          "text": [
            "Saving arquivo_funcionario.csv to arquivo_funcionario.csv\n",
            "Saving arquivo_email.csv to arquivo_email.csv\n",
            "Saving arquivo_departamento.csv to arquivo_departamento.csv\n"
          ]
        }
      ]
    },
    {
      "cell_type": "code",
      "source": [
        "df_fun = pd.read_csv('arquivo_funcionario.csv') \n",
        "print(df_fun.head(5))"
      ],
      "metadata": {
        "colab": {
          "base_uri": "https://localhost:8080/"
        },
        "id": "qpM0B5MB_-K0",
        "outputId": "7085842c-23cc-4735-930d-b9e4b8548aaa"
      },
      "execution_count": 3,
      "outputs": [
        {
          "output_type": "stream",
          "name": "stdout",
          "text": [
            "   mat          nome       rg sexo  cod_depto  salario\n",
            "0    1           Ana  1283217    F          1  4550.55\n",
            "1    2         Maria   432789    F          5  4650.55\n",
            "2    3  Paulo Marcos   587654    M          3  8258.95\n",
            "3    4        Joelsi   456854    M          3  3345.01\n",
            "4    5     Ana Paula   118221    F          1  4550.55\n"
          ]
        }
      ]
    },
    {
      "cell_type": "code",
      "source": [
        "df_dep = pd.read_csv('arquivo_departamento.csv') \n",
        "print(df_dep.head(5))"
      ],
      "metadata": {
        "colab": {
          "base_uri": "https://localhost:8080/"
        },
        "id": "8w-gLaMn_-pn",
        "outputId": "01346491-5076-4a98-e22a-dab3a8e8bb99"
      },
      "execution_count": 4,
      "outputs": [
        {
          "output_type": "stream",
          "name": "stdout",
          "text": [
            "   id  nome_depto\n",
            "0   1      roupas\n",
            "1   2    calcados\n",
            "2   3      bolsas\n",
            "3   4  acessorios\n",
            "4   5   esportivo\n"
          ]
        }
      ]
    },
    {
      "cell_type": "code",
      "source": [
        "df_ema = pd.read_csv('arquivo_email.csv') \n",
        "print(df_ema.head(5))"
      ],
      "metadata": {
        "colab": {
          "base_uri": "https://localhost:8080/"
        },
        "id": "9enYHy9I_-6D",
        "outputId": "27ed59b8-a29c-4167-cfb7-efbaef95d033"
      },
      "execution_count": 5,
      "outputs": [
        {
          "output_type": "stream",
          "name": "stdout",
          "text": [
            "   id                      email\n",
            "0   1           Ana@meuemail.com\n",
            "1   2         Maria@meuemail.com\n",
            "2   3  Paulo_Marcos@meuemail.com\n",
            "3   4        Joelsi@meuemail.com\n",
            "4   5     Ana_Paula@meuemail.com\n"
          ]
        }
      ]
    },
    {
      "cell_type": "markdown",
      "source": [
        "# TRABALHANDO COM A BIBLIOTECA PANDAS."
      ],
      "metadata": {
        "id": "bZkPd0gTEto_"
      }
    },
    {
      "cell_type": "markdown",
      "source": [
        "FAZENDO ALGUMAS QUERIES: trabalhando na estrutura da tabela.\n",
        "\n",
        "\n",
        "1) ADICIONAR O DEPARTAMENTO MATERIAIS_ESPORTIVOS NA TABELA DEPARTAMENTO.\n",
        "\n",
        "2) ADICIONAR A COLUNA EMAIL com valor nulo NA TABELA FUNCIONARIO.\n",
        "\n",
        "3) RENOMEAR A COLUNA EMAIL PARA EMAIL_FUNCIONARIO.\n",
        "\n",
        "4) DELETE A COLUNA EMAIL_FUNCIONARIO.\n",
        "\n",
        "\n"
      ],
      "metadata": {
        "id": "b-1EI1wwE0NR"
      }
    },
    {
      "cell_type": "code",
      "source": [
        "# temos duas opções:\n",
        "#df_dep.loc[5]=[6,'materiais_esportivos']\n",
        "# ou você pode usar o comando len\n",
        "df_dep.loc[len(df_dep)]=[6,'materiais_esportivos']\n",
        "print(df_dep)"
      ],
      "metadata": {
        "colab": {
          "base_uri": "https://localhost:8080/"
        },
        "id": "zNh8mLsvAhbX",
        "outputId": "ce94c644-b122-4e3e-cf8d-771e64f615d6"
      },
      "execution_count": 6,
      "outputs": [
        {
          "output_type": "stream",
          "name": "stdout",
          "text": [
            "   id            nome_depto\n",
            "0   1                roupas\n",
            "1   2              calcados\n",
            "2   3                bolsas\n",
            "3   4            acessorios\n",
            "4   5             esportivo\n",
            "5   6  materiais_esportivos\n"
          ]
        }
      ]
    },
    {
      "cell_type": "code",
      "source": [
        "# temos duas opções\n",
        "#df_fun['email']=0\n",
        "df_fun.insert(6,'email',0)\n",
        "print(df_fun)"
      ],
      "metadata": {
        "colab": {
          "base_uri": "https://localhost:8080/"
        },
        "id": "xSjCKbGjAhsE",
        "outputId": "bf208319-a5b1-493b-ce9d-1a0cc63efe21"
      },
      "execution_count": 7,
      "outputs": [
        {
          "output_type": "stream",
          "name": "stdout",
          "text": [
            "    mat           nome         rg sexo  cod_depto  salario  email\n",
            "0     1            Ana    1283217    F          1  4550.55      0\n",
            "1     2          Maria     432789    F          5  4650.55      0\n",
            "2     3   Paulo Marcos     587654    M          3  8258.95      0\n",
            "3     4         Joelsi     456854    M          3  3345.01      0\n",
            "4     5      Ana Paula     118221    F          1  4550.55      0\n",
            "5     6    Maria Joana    1432789    F          2  4132.01      0\n",
            "6     7          Paulo    1567684    M          4  3258.95      0\n",
            "7     8         Joelma    1456854    M          3  3145.88      0\n",
            "8     9          Paula    2123321    F          5  4610.55      0\n",
            "9    10          Joana    2432789    F          2  4232.77      0\n",
            "10   11   Paulo Sergio     267654    M          4  4258.95      0\n",
            "11   12           Joel    2456784    M          3  3845.77      0\n",
            "12   13       Anaelize    3288331    F          4  3258.51      0\n",
            "13   14        Mariana    3428879    F          2  4531.71      0\n",
            "14   15    Paulo Cesar    3567654    M          5  4622.55      0\n",
            "15   16             Jo    3668854    M          3  4651.52      0\n",
            "16   17      Ana Maria    4891221    F          1  4410.55      0\n",
            "17   18        Mariane    4279889    F          2  4537.77      0\n",
            "18   19  Paulo Ricardo  489567654    M          4  5158.85      0\n",
            "19   20         Zoelma  445668954    M          3  3332.45      0\n",
            "20   21        Beatriz   51233291    F          1  4532.65      0\n",
            "21   22          Carla   54327989    F          2  4537.32      0\n",
            "22   23           Jose    5567954    M          4  5658.15      0\n",
            "23   24         Debora   54776654    M          3  4345.44      0\n",
            "24   25            Bea   61237721    F          5  4622.22      0\n",
            "25   26        Carlota    6377789    F          5  4153.57      0\n",
            "26   27     Jose Pedro    6767654    M          2  8211.25      0\n",
            "27   28           Deby    5676541    M          3  3317.11      0\n",
            "28   29       Belatriz    7723321    F          1  4250.77      0\n",
            "29   30        Carlina    7472789    F          2  4555.00      0\n",
            "30   31     Jose Lucas   77567654    M          3  7255.55      0\n",
            "31   32        Deborah   74568754    F          6  3314.31      0\n",
            "32   33           Bina    8123381    F          5  4652.52      0\n",
            "33   34          Carly    8432779    F          5  4688.85      0\n",
            "34   35        Jenoino    8567754    M          4  5277.95      0\n",
            "35   36           Debi  847768954    F          3  3366.66      0\n",
            "36   37            Bia   99189921    F          1  4567.67      0\n",
            "37   38           Cida   94789189    F          2  4892.89      0\n",
            "38   39          Jonas   95734354    M          4  7658.01      0\n",
            "39   40         Evelyn   94566554    F          6  3302.02      0\n",
            "40   41         Sandra   13435321    F          4  8530.31      0\n",
            "41   42            Eve   12432789    F          5  4259.51      0\n",
            "42   43            Jon   56766854    M          6  7258.95      0\n",
            "43   44          Sandy   56678654    F          3  4345.21      0\n",
            "44   45          Selly   23678321    F          5  4613.15      0\n",
            "45   46           Samy   43256789    F          2  4532.21      0\n",
            "46   47           John   67567654    M          1  8221.95      0\n",
            "47   48           Kary   56667854    F          3  3332.34      0\n",
            "48   49        Marcela   26783321    F          5  8651.15      0\n",
            "49   50           Mary   43275689    F          2  4577.44      0\n"
          ]
        }
      ]
    },
    {
      "cell_type": "code",
      "source": [
        "# temos duas opções:\n",
        "#df_fun=df_fun.rename(columns={'email':'email_funcionario'})\n",
        "#print(df_fun.columns)\n",
        "df_fun.columns=['mat', 'nome', 'rg', 'sexo', 'cod_depto', 'salario', 'email_funcionario']\n",
        "print(df_fun)"
      ],
      "metadata": {
        "colab": {
          "base_uri": "https://localhost:8080/"
        },
        "id": "DVFtlDThAhzP",
        "outputId": "6ed3c82d-a405-40e9-f556-a4a2bf6196c9"
      },
      "execution_count": 8,
      "outputs": [
        {
          "output_type": "stream",
          "name": "stdout",
          "text": [
            "    mat           nome         rg sexo  cod_depto  salario  email_funcionario\n",
            "0     1            Ana    1283217    F          1  4550.55                  0\n",
            "1     2          Maria     432789    F          5  4650.55                  0\n",
            "2     3   Paulo Marcos     587654    M          3  8258.95                  0\n",
            "3     4         Joelsi     456854    M          3  3345.01                  0\n",
            "4     5      Ana Paula     118221    F          1  4550.55                  0\n",
            "5     6    Maria Joana    1432789    F          2  4132.01                  0\n",
            "6     7          Paulo    1567684    M          4  3258.95                  0\n",
            "7     8         Joelma    1456854    M          3  3145.88                  0\n",
            "8     9          Paula    2123321    F          5  4610.55                  0\n",
            "9    10          Joana    2432789    F          2  4232.77                  0\n",
            "10   11   Paulo Sergio     267654    M          4  4258.95                  0\n",
            "11   12           Joel    2456784    M          3  3845.77                  0\n",
            "12   13       Anaelize    3288331    F          4  3258.51                  0\n",
            "13   14        Mariana    3428879    F          2  4531.71                  0\n",
            "14   15    Paulo Cesar    3567654    M          5  4622.55                  0\n",
            "15   16             Jo    3668854    M          3  4651.52                  0\n",
            "16   17      Ana Maria    4891221    F          1  4410.55                  0\n",
            "17   18        Mariane    4279889    F          2  4537.77                  0\n",
            "18   19  Paulo Ricardo  489567654    M          4  5158.85                  0\n",
            "19   20         Zoelma  445668954    M          3  3332.45                  0\n",
            "20   21        Beatriz   51233291    F          1  4532.65                  0\n",
            "21   22          Carla   54327989    F          2  4537.32                  0\n",
            "22   23           Jose    5567954    M          4  5658.15                  0\n",
            "23   24         Debora   54776654    M          3  4345.44                  0\n",
            "24   25            Bea   61237721    F          5  4622.22                  0\n",
            "25   26        Carlota    6377789    F          5  4153.57                  0\n",
            "26   27     Jose Pedro    6767654    M          2  8211.25                  0\n",
            "27   28           Deby    5676541    M          3  3317.11                  0\n",
            "28   29       Belatriz    7723321    F          1  4250.77                  0\n",
            "29   30        Carlina    7472789    F          2  4555.00                  0\n",
            "30   31     Jose Lucas   77567654    M          3  7255.55                  0\n",
            "31   32        Deborah   74568754    F          6  3314.31                  0\n",
            "32   33           Bina    8123381    F          5  4652.52                  0\n",
            "33   34          Carly    8432779    F          5  4688.85                  0\n",
            "34   35        Jenoino    8567754    M          4  5277.95                  0\n",
            "35   36           Debi  847768954    F          3  3366.66                  0\n",
            "36   37            Bia   99189921    F          1  4567.67                  0\n",
            "37   38           Cida   94789189    F          2  4892.89                  0\n",
            "38   39          Jonas   95734354    M          4  7658.01                  0\n",
            "39   40         Evelyn   94566554    F          6  3302.02                  0\n",
            "40   41         Sandra   13435321    F          4  8530.31                  0\n",
            "41   42            Eve   12432789    F          5  4259.51                  0\n",
            "42   43            Jon   56766854    M          6  7258.95                  0\n",
            "43   44          Sandy   56678654    F          3  4345.21                  0\n",
            "44   45          Selly   23678321    F          5  4613.15                  0\n",
            "45   46           Samy   43256789    F          2  4532.21                  0\n",
            "46   47           John   67567654    M          1  8221.95                  0\n",
            "47   48           Kary   56667854    F          3  3332.34                  0\n",
            "48   49        Marcela   26783321    F          5  8651.15                  0\n",
            "49   50           Mary   43275689    F          2  4577.44                  0\n"
          ]
        }
      ]
    },
    {
      "cell_type": "code",
      "source": [
        "df_fun.drop('email_funcionario',axis=1,inplace=True)\n",
        "print(df_fun)"
      ],
      "metadata": {
        "colab": {
          "base_uri": "https://localhost:8080/"
        },
        "id": "7no6uxKeNVVt",
        "outputId": "ff254eb6-6182-452a-bfea-f030882c34a5"
      },
      "execution_count": 9,
      "outputs": [
        {
          "output_type": "stream",
          "name": "stdout",
          "text": [
            "    mat           nome         rg sexo  cod_depto  salario\n",
            "0     1            Ana    1283217    F          1  4550.55\n",
            "1     2          Maria     432789    F          5  4650.55\n",
            "2     3   Paulo Marcos     587654    M          3  8258.95\n",
            "3     4         Joelsi     456854    M          3  3345.01\n",
            "4     5      Ana Paula     118221    F          1  4550.55\n",
            "5     6    Maria Joana    1432789    F          2  4132.01\n",
            "6     7          Paulo    1567684    M          4  3258.95\n",
            "7     8         Joelma    1456854    M          3  3145.88\n",
            "8     9          Paula    2123321    F          5  4610.55\n",
            "9    10          Joana    2432789    F          2  4232.77\n",
            "10   11   Paulo Sergio     267654    M          4  4258.95\n",
            "11   12           Joel    2456784    M          3  3845.77\n",
            "12   13       Anaelize    3288331    F          4  3258.51\n",
            "13   14        Mariana    3428879    F          2  4531.71\n",
            "14   15    Paulo Cesar    3567654    M          5  4622.55\n",
            "15   16             Jo    3668854    M          3  4651.52\n",
            "16   17      Ana Maria    4891221    F          1  4410.55\n",
            "17   18        Mariane    4279889    F          2  4537.77\n",
            "18   19  Paulo Ricardo  489567654    M          4  5158.85\n",
            "19   20         Zoelma  445668954    M          3  3332.45\n",
            "20   21        Beatriz   51233291    F          1  4532.65\n",
            "21   22          Carla   54327989    F          2  4537.32\n",
            "22   23           Jose    5567954    M          4  5658.15\n",
            "23   24         Debora   54776654    M          3  4345.44\n",
            "24   25            Bea   61237721    F          5  4622.22\n",
            "25   26        Carlota    6377789    F          5  4153.57\n",
            "26   27     Jose Pedro    6767654    M          2  8211.25\n",
            "27   28           Deby    5676541    M          3  3317.11\n",
            "28   29       Belatriz    7723321    F          1  4250.77\n",
            "29   30        Carlina    7472789    F          2  4555.00\n",
            "30   31     Jose Lucas   77567654    M          3  7255.55\n",
            "31   32        Deborah   74568754    F          6  3314.31\n",
            "32   33           Bina    8123381    F          5  4652.52\n",
            "33   34          Carly    8432779    F          5  4688.85\n",
            "34   35        Jenoino    8567754    M          4  5277.95\n",
            "35   36           Debi  847768954    F          3  3366.66\n",
            "36   37            Bia   99189921    F          1  4567.67\n",
            "37   38           Cida   94789189    F          2  4892.89\n",
            "38   39          Jonas   95734354    M          4  7658.01\n",
            "39   40         Evelyn   94566554    F          6  3302.02\n",
            "40   41         Sandra   13435321    F          4  8530.31\n",
            "41   42            Eve   12432789    F          5  4259.51\n",
            "42   43            Jon   56766854    M          6  7258.95\n",
            "43   44          Sandy   56678654    F          3  4345.21\n",
            "44   45          Selly   23678321    F          5  4613.15\n",
            "45   46           Samy   43256789    F          2  4532.21\n",
            "46   47           John   67567654    M          1  8221.95\n",
            "47   48           Kary   56667854    F          3  3332.34\n",
            "48   49        Marcela   26783321    F          5  8651.15\n",
            "49   50           Mary   43275689    F          2  4577.44\n"
          ]
        }
      ]
    },
    {
      "cell_type": "markdown",
      "source": [
        "MAIS QUERIES:\n",
        "\n",
        "q1) QUAL O SALÁRIO DA FUNCIONARIA BIA?\n",
        "\n",
        "q2) QUAL O DEPARTAMENTO DA FUNCIONARIA MARIANE?\n",
        "\n",
        "q3) QUAIS FUNCIONARIOS GANHAM ENTRE 5000 E 8000? \n",
        "\n",
        "q4) QUAIS FUNCIONARIOS DO SEXO MASCULINO GANHAM ENTRE 4000 E 5000?\n",
        "\n",
        "q5) ALTERAR O SEXO DO FUNCIONARIO SAMY DE F PARA M.\n"
      ],
      "metadata": {
        "id": "ByunrDR7Ft8u"
      }
    },
    {
      "cell_type": "code",
      "source": [
        "# temos duas opções:\n",
        "q1 = df_fun[ (df_fun['nome'] == 'Bia') ]\n",
        "#q1=df_fun.query(' nome==\"Bia\" ')\n",
        "print(q1)\n",
        "print(df_fun.iloc[36,[1,5]])\n",
        "print(df_fun.loc[36,['nome','salario']])"
      ],
      "metadata": {
        "colab": {
          "base_uri": "https://localhost:8080/"
        },
        "id": "wbP7QbGZAh-z",
        "outputId": "16ae59d6-c27e-4416-efd0-b9462a5223c5"
      },
      "execution_count": 10,
      "outputs": [
        {
          "output_type": "stream",
          "name": "stdout",
          "text": [
            "    mat nome        rg sexo  cod_depto  salario\n",
            "36   37  Bia  99189921    F          1  4567.67\n",
            "nome           Bia\n",
            "salario    4567.67\n",
            "Name: 36, dtype: object\n",
            "nome           Bia\n",
            "salario    4567.67\n",
            "Name: 36, dtype: object\n"
          ]
        }
      ]
    },
    {
      "cell_type": "code",
      "source": [
        "# temos duas opções:\n",
        "#q2 = df_fun[ (df_fun['nome'] == 'Mariane') ]\n",
        "q2=df_fun.query(' nome==\"Mariane\" ')\n",
        "print(q2)\n",
        "print(df_fun.iloc[17,[1,5]])\n",
        "print(df_fun.loc[17,['nome','salario']])"
      ],
      "metadata": {
        "colab": {
          "base_uri": "https://localhost:8080/"
        },
        "id": "mkrPXEjAAiKA",
        "outputId": "484770ef-46eb-40c0-a203-a943db50d08f"
      },
      "execution_count": 11,
      "outputs": [
        {
          "output_type": "stream",
          "name": "stdout",
          "text": [
            "    mat     nome       rg sexo  cod_depto  salario\n",
            "17   18  Mariane  4279889    F          2  4537.77\n",
            "nome       Mariane\n",
            "salario    4537.77\n",
            "Name: 17, dtype: object\n",
            "nome       Mariane\n",
            "salario    4537.77\n",
            "Name: 17, dtype: object\n"
          ]
        }
      ]
    },
    {
      "cell_type": "code",
      "source": [
        "# temos duas opções:\n",
        "q3 = df_fun[ (df_fun['salario'] >5000) & (df_fun['salario'] <8000) ].sort_values('salario',ascending=True)\n",
        "#q3=df_fun.query( ' salario >5000 and salario<8000 ' ).sort_values('salario',ascending=True)\n",
        "print(q3)"
      ],
      "metadata": {
        "colab": {
          "base_uri": "https://localhost:8080/"
        },
        "id": "19zqRjjgu6xu",
        "outputId": "624703fd-a191-4e5a-e805-bdea1c953aca"
      },
      "execution_count": 12,
      "outputs": [
        {
          "output_type": "stream",
          "name": "stdout",
          "text": [
            "    mat           nome         rg sexo  cod_depto  salario\n",
            "18   19  Paulo Ricardo  489567654    M          4  5158.85\n",
            "34   35        Jenoino    8567754    M          4  5277.95\n",
            "22   23           Jose    5567954    M          4  5658.15\n",
            "30   31     Jose Lucas   77567654    M          3  7255.55\n",
            "42   43            Jon   56766854    M          6  7258.95\n",
            "38   39          Jonas   95734354    M          4  7658.01\n"
          ]
        }
      ]
    },
    {
      "cell_type": "code",
      "source": [
        "q4 = df_fun[ (df_fun['salario'] >4000) & (df_fun['salario'] <5000) ].sort_values('salario',ascending=True)\n",
        "print(q4)\n",
        "q4 = df_fun[ (df_fun['salario'] >4000) & (df_fun['salario'] <5000) & (df_fun['sexo'] =='M')].sort_values('salario',ascending=True)\n",
        "print(q4)"
      ],
      "metadata": {
        "id": "6a7ZzOLhu7Zq",
        "colab": {
          "base_uri": "https://localhost:8080/"
        },
        "outputId": "e155182d-65ac-408c-d603-009a658d444c"
      },
      "execution_count": 13,
      "outputs": [
        {
          "output_type": "stream",
          "name": "stdout",
          "text": [
            "    mat          nome        rg sexo  cod_depto  salario\n",
            "5     6   Maria Joana   1432789    F          2  4132.01\n",
            "25   26       Carlota   6377789    F          5  4153.57\n",
            "9    10         Joana   2432789    F          2  4232.77\n",
            "28   29      Belatriz   7723321    F          1  4250.77\n",
            "10   11  Paulo Sergio    267654    M          4  4258.95\n",
            "41   42           Eve  12432789    F          5  4259.51\n",
            "43   44         Sandy  56678654    F          3  4345.21\n",
            "23   24        Debora  54776654    M          3  4345.44\n",
            "16   17     Ana Maria   4891221    F          1  4410.55\n",
            "13   14       Mariana   3428879    F          2  4531.71\n",
            "45   46          Samy  43256789    F          2  4532.21\n",
            "20   21       Beatriz  51233291    F          1  4532.65\n",
            "21   22         Carla  54327989    F          2  4537.32\n",
            "17   18       Mariane   4279889    F          2  4537.77\n",
            "0     1           Ana   1283217    F          1  4550.55\n",
            "4     5     Ana Paula    118221    F          1  4550.55\n",
            "29   30       Carlina   7472789    F          2  4555.00\n",
            "36   37           Bia  99189921    F          1  4567.67\n",
            "49   50          Mary  43275689    F          2  4577.44\n",
            "8     9         Paula   2123321    F          5  4610.55\n",
            "44   45         Selly  23678321    F          5  4613.15\n",
            "24   25           Bea  61237721    F          5  4622.22\n",
            "14   15   Paulo Cesar   3567654    M          5  4622.55\n",
            "1     2         Maria    432789    F          5  4650.55\n",
            "15   16            Jo   3668854    M          3  4651.52\n",
            "32   33          Bina   8123381    F          5  4652.52\n",
            "33   34         Carly   8432779    F          5  4688.85\n",
            "37   38          Cida  94789189    F          2  4892.89\n",
            "    mat          nome        rg sexo  cod_depto  salario\n",
            "10   11  Paulo Sergio    267654    M          4  4258.95\n",
            "23   24        Debora  54776654    M          3  4345.44\n",
            "14   15   Paulo Cesar   3567654    M          5  4622.55\n",
            "15   16            Jo   3668854    M          3  4651.52\n"
          ]
        }
      ]
    },
    {
      "cell_type": "code",
      "source": [
        "q51 = df_fun[ (df_fun['nome'] == 'Samy') ]\n",
        "print(q51)\n",
        "#df_fun.iloc[45,3]='M'\n",
        "#print(df_fun)\n",
        "df_fun.loc[45,'sexo']='M'\n",
        "q52 = df_fun[ (df_fun['nome'] == 'Debora') ]\n",
        "print(q52)\n",
        "#df_fun.iloc[45,3]='M'\n",
        "#print(df_fun)\n",
        "df_fun.loc[23,'sexo']='F'\n",
        "print(df_fun)\n",
        "q4 = df_fun[ (df_fun['salario'] >4000) & (df_fun['salario'] <5000) & (df_fun['sexo'] =='M')].sort_values('salario',ascending=True)\n",
        "print(q4)"
      ],
      "metadata": {
        "id": "K1FgvkZnu74r",
        "colab": {
          "base_uri": "https://localhost:8080/"
        },
        "outputId": "fc4ee035-20cb-4e84-994b-46a159645ddf"
      },
      "execution_count": 14,
      "outputs": [
        {
          "output_type": "stream",
          "name": "stdout",
          "text": [
            "    mat  nome        rg sexo  cod_depto  salario\n",
            "45   46  Samy  43256789    F          2  4532.21\n",
            "    mat    nome        rg sexo  cod_depto  salario\n",
            "23   24  Debora  54776654    M          3  4345.44\n",
            "    mat           nome         rg sexo  cod_depto  salario\n",
            "0     1            Ana    1283217    F          1  4550.55\n",
            "1     2          Maria     432789    F          5  4650.55\n",
            "2     3   Paulo Marcos     587654    M          3  8258.95\n",
            "3     4         Joelsi     456854    M          3  3345.01\n",
            "4     5      Ana Paula     118221    F          1  4550.55\n",
            "5     6    Maria Joana    1432789    F          2  4132.01\n",
            "6     7          Paulo    1567684    M          4  3258.95\n",
            "7     8         Joelma    1456854    M          3  3145.88\n",
            "8     9          Paula    2123321    F          5  4610.55\n",
            "9    10          Joana    2432789    F          2  4232.77\n",
            "10   11   Paulo Sergio     267654    M          4  4258.95\n",
            "11   12           Joel    2456784    M          3  3845.77\n",
            "12   13       Anaelize    3288331    F          4  3258.51\n",
            "13   14        Mariana    3428879    F          2  4531.71\n",
            "14   15    Paulo Cesar    3567654    M          5  4622.55\n",
            "15   16             Jo    3668854    M          3  4651.52\n",
            "16   17      Ana Maria    4891221    F          1  4410.55\n",
            "17   18        Mariane    4279889    F          2  4537.77\n",
            "18   19  Paulo Ricardo  489567654    M          4  5158.85\n",
            "19   20         Zoelma  445668954    M          3  3332.45\n",
            "20   21        Beatriz   51233291    F          1  4532.65\n",
            "21   22          Carla   54327989    F          2  4537.32\n",
            "22   23           Jose    5567954    M          4  5658.15\n",
            "23   24         Debora   54776654    F          3  4345.44\n",
            "24   25            Bea   61237721    F          5  4622.22\n",
            "25   26        Carlota    6377789    F          5  4153.57\n",
            "26   27     Jose Pedro    6767654    M          2  8211.25\n",
            "27   28           Deby    5676541    M          3  3317.11\n",
            "28   29       Belatriz    7723321    F          1  4250.77\n",
            "29   30        Carlina    7472789    F          2  4555.00\n",
            "30   31     Jose Lucas   77567654    M          3  7255.55\n",
            "31   32        Deborah   74568754    F          6  3314.31\n",
            "32   33           Bina    8123381    F          5  4652.52\n",
            "33   34          Carly    8432779    F          5  4688.85\n",
            "34   35        Jenoino    8567754    M          4  5277.95\n",
            "35   36           Debi  847768954    F          3  3366.66\n",
            "36   37            Bia   99189921    F          1  4567.67\n",
            "37   38           Cida   94789189    F          2  4892.89\n",
            "38   39          Jonas   95734354    M          4  7658.01\n",
            "39   40         Evelyn   94566554    F          6  3302.02\n",
            "40   41         Sandra   13435321    F          4  8530.31\n",
            "41   42            Eve   12432789    F          5  4259.51\n",
            "42   43            Jon   56766854    M          6  7258.95\n",
            "43   44          Sandy   56678654    F          3  4345.21\n",
            "44   45          Selly   23678321    F          5  4613.15\n",
            "45   46           Samy   43256789    M          2  4532.21\n",
            "46   47           John   67567654    M          1  8221.95\n",
            "47   48           Kary   56667854    F          3  3332.34\n",
            "48   49        Marcela   26783321    F          5  8651.15\n",
            "49   50           Mary   43275689    F          2  4577.44\n",
            "    mat          nome        rg sexo  cod_depto  salario\n",
            "10   11  Paulo Sergio    267654    M          4  4258.95\n",
            "45   46          Samy  43256789    M          2  4532.21\n",
            "14   15   Paulo Cesar   3567654    M          5  4622.55\n",
            "15   16            Jo   3668854    M          3  4651.52\n"
          ]
        }
      ]
    },
    {
      "cell_type": "markdown",
      "source": [
        "MAIS QUERIES:\n",
        "\n",
        "q6) QUAL A MÉDIA SALARIAL DOS FUNCIONARIOS?\n",
        "\n",
        "q7) QUAL FUNCIONARIO GANHA MAIS?\n",
        "\n",
        "q8) QUAL FUNCIONARIO GANHA MENOS?\n",
        "\n",
        "q9) QUAIS O 5 FUNCIONARIOS COM MAIOR SALÁRIO?\n",
        "\n",
        "q10) QUAIS FUNCIONARIOS GANHAM MAIS QUE O SALARIO MÉDIO?"
      ],
      "metadata": {
        "id": "EVteWYzHGSYf"
      }
    },
    {
      "cell_type": "code",
      "source": [
        "print('a média dos salários é:',df_fun['salario'].mean())"
      ],
      "metadata": {
        "colab": {
          "base_uri": "https://localhost:8080/"
        },
        "id": "EQhMs9iKAiUy",
        "outputId": "18d35048-34aa-4e89-8340-898b3f8babed"
      },
      "execution_count": 15,
      "outputs": [
        {
          "output_type": "stream",
          "name": "stdout",
          "text": [
            "a média dos salários é: 4856.5306\n"
          ]
        }
      ]
    },
    {
      "cell_type": "code",
      "source": [
        "print('o maior salário é:',df_fun['salario'].max())\n",
        "q7=df_fun[ (df_fun['salario'] == df_fun['salario'].max()) ]\n",
        "print(q7)"
      ],
      "metadata": {
        "colab": {
          "base_uri": "https://localhost:8080/"
        },
        "id": "GF-8EGvQxu2H",
        "outputId": "79228678-1852-4f5b-93a7-cc2becdaae09"
      },
      "execution_count": 16,
      "outputs": [
        {
          "output_type": "stream",
          "name": "stdout",
          "text": [
            "o maior salário é: 8651.15\n",
            "    mat     nome        rg sexo  cod_depto  salario\n",
            "48   49  Marcela  26783321    F          5  8651.15\n"
          ]
        }
      ]
    },
    {
      "cell_type": "code",
      "source": [
        "print('o menor salário é:',df_fun['salario'].min())\n",
        "q8=df_fun[ (df_fun['salario'] == df_fun['salario'].min()) ]\n",
        "print(q8)"
      ],
      "metadata": {
        "colab": {
          "base_uri": "https://localhost:8080/"
        },
        "id": "QQ-LRBYXxvFw",
        "outputId": "7094efa9-a688-4735-e36a-34ce82eceae6"
      },
      "execution_count": 17,
      "outputs": [
        {
          "output_type": "stream",
          "name": "stdout",
          "text": [
            "o menor salário é: 3145.88\n",
            "   mat    nome       rg sexo  cod_depto  salario\n",
            "7    8  Joelma  1456854    M          3  3145.88\n"
          ]
        }
      ]
    },
    {
      "cell_type": "code",
      "source": [
        "q9=df_fun['salario'].sort_values(ascending=False).nlargest(6)\n",
        "print('os 5 maiores salários são:',q9)\n",
        "q9=df_fun.iloc[[48,40,2,46,26,38],1]\n",
        "print(q9)"
      ],
      "metadata": {
        "colab": {
          "base_uri": "https://localhost:8080/"
        },
        "id": "6D5FFnUqxvhb",
        "outputId": "d4dde6df-1674-4985-87ae-1112c574c533"
      },
      "execution_count": 18,
      "outputs": [
        {
          "output_type": "stream",
          "name": "stdout",
          "text": [
            "os 5 maiores salários são: 48    8651.15\n",
            "40    8530.31\n",
            "2     8258.95\n",
            "46    8221.95\n",
            "26    8211.25\n",
            "38    7658.01\n",
            "Name: salario, dtype: float64\n",
            "48         Marcela\n",
            "40          Sandra\n",
            "2     Paulo Marcos\n",
            "46            John\n",
            "26      Jose Pedro\n",
            "38           Jonas\n",
            "Name: nome, dtype: object\n"
          ]
        }
      ]
    },
    {
      "cell_type": "code",
      "source": [
        "print('o menor salário é:',df_fun['salario'].min())\n",
        "print(' a média salarial é de:',df_fun['salario'].mean())\n",
        "q10=df_fun[ (df_fun['salario'] > df_fun['salario'].mean()) ].sort_values('salario',ascending=False)\n",
        "print(q10)"
      ],
      "metadata": {
        "colab": {
          "base_uri": "https://localhost:8080/"
        },
        "id": "s7qrADnSAidk",
        "outputId": "51b7888e-3808-42bc-f518-976bf1c4c2fc"
      },
      "execution_count": 19,
      "outputs": [
        {
          "output_type": "stream",
          "name": "stdout",
          "text": [
            "o menor salário é: 3145.88\n",
            " a média salarial é de: 4856.5306\n",
            "    mat           nome         rg sexo  cod_depto  salario\n",
            "48   49        Marcela   26783321    F          5  8651.15\n",
            "40   41         Sandra   13435321    F          4  8530.31\n",
            "2     3   Paulo Marcos     587654    M          3  8258.95\n",
            "46   47           John   67567654    M          1  8221.95\n",
            "26   27     Jose Pedro    6767654    M          2  8211.25\n",
            "38   39          Jonas   95734354    M          4  7658.01\n",
            "42   43            Jon   56766854    M          6  7258.95\n",
            "30   31     Jose Lucas   77567654    M          3  7255.55\n",
            "22   23           Jose    5567954    M          4  5658.15\n",
            "34   35        Jenoino    8567754    M          4  5277.95\n",
            "18   19  Paulo Ricardo  489567654    M          4  5158.85\n",
            "37   38           Cida   94789189    F          2  4892.89\n"
          ]
        }
      ]
    },
    {
      "cell_type": "markdown",
      "source": [
        "MAIS QUERIES:\n",
        "\n",
        "q11) QUAIS OS NOMES E SALÁRIOS DOS FUNCIONÁRIOS DO DEPARTAMENTO 6?\n",
        "\n",
        "q12) QUAL A MÉDIA SALARIAL POR DEPARTAMENTO?\n",
        "\n",
        "q13) QUAL A MÉDIA SALARIAL DOS FUNCIONARIOS DO DEPARTAMENTO 6?\n",
        "\n"
      ],
      "metadata": {
        "id": "AHaJpHwSGq5S"
      }
    },
    {
      "cell_type": "code",
      "source": [
        "q11=df_fun[ (df_fun['cod_depto'] ==6) ]\n",
        "print(q11)"
      ],
      "metadata": {
        "colab": {
          "base_uri": "https://localhost:8080/"
        },
        "id": "Vs_KBANtGpe7",
        "outputId": "7b883028-19e8-4f7a-d6c2-19549336f21e"
      },
      "execution_count": 20,
      "outputs": [
        {
          "output_type": "stream",
          "name": "stdout",
          "text": [
            "    mat     nome        rg sexo  cod_depto  salario\n",
            "31   32  Deborah  74568754    F          6  3314.31\n",
            "39   40   Evelyn  94566554    F          6  3302.02\n",
            "42   43      Jon  56766854    M          6  7258.95\n"
          ]
        }
      ]
    },
    {
      "cell_type": "code",
      "source": [
        "q12=df_fun.groupby('cod_depto').agg({'salario':'mean'}).reset_index()\n",
        "print(q12)\n",
        "print(q12.iloc[5])"
      ],
      "metadata": {
        "colab": {
          "base_uri": "https://localhost:8080/"
        },
        "id": "83pTmfo8Gpty",
        "outputId": "8b5e8607-a3b9-44bc-da39-04310215c96f"
      },
      "execution_count": 21,
      "outputs": [
        {
          "output_type": "stream",
          "name": "stdout",
          "text": [
            "   cod_depto      salario\n",
            "0          1  5012.098571\n",
            "1          2  4874.037000\n",
            "2          3  4378.490833\n",
            "3          4  5382.460000\n",
            "4          5  4952.462000\n",
            "5          6  4625.093333\n",
            "cod_depto       6.000000\n",
            "salario      4625.093333\n",
            "Name: 5, dtype: float64\n"
          ]
        }
      ]
    },
    {
      "cell_type": "markdown",
      "source": [
        "# Realizando Join"
      ],
      "metadata": {
        "id": "1oZ3qR6B7t3W"
      }
    },
    {
      "cell_type": "code",
      "source": [
        "df_fun.info()"
      ],
      "metadata": {
        "colab": {
          "base_uri": "https://localhost:8080/"
        },
        "id": "UGjnPOYNGpzs",
        "outputId": "45701f04-c932-4d01-99c5-cae690413357"
      },
      "execution_count": 22,
      "outputs": [
        {
          "output_type": "stream",
          "name": "stdout",
          "text": [
            "<class 'pandas.core.frame.DataFrame'>\n",
            "RangeIndex: 50 entries, 0 to 49\n",
            "Data columns (total 6 columns):\n",
            " #   Column     Non-Null Count  Dtype  \n",
            "---  ------     --------------  -----  \n",
            " 0   mat        50 non-null     int64  \n",
            " 1   nome       50 non-null     object \n",
            " 2   rg         50 non-null     int64  \n",
            " 3   sexo       50 non-null     object \n",
            " 4   cod_depto  50 non-null     int64  \n",
            " 5   salario    50 non-null     float64\n",
            "dtypes: float64(1), int64(3), object(2)\n",
            "memory usage: 2.5+ KB\n"
          ]
        }
      ]
    },
    {
      "cell_type": "code",
      "source": [
        "df_dep.info()"
      ],
      "metadata": {
        "colab": {
          "base_uri": "https://localhost:8080/"
        },
        "id": "GTa9esGa9RG1",
        "outputId": "f6c71a9f-2ba3-4f3e-f6ba-6ea7a88c959e"
      },
      "execution_count": 23,
      "outputs": [
        {
          "output_type": "stream",
          "name": "stdout",
          "text": [
            "<class 'pandas.core.frame.DataFrame'>\n",
            "Int64Index: 6 entries, 0 to 5\n",
            "Data columns (total 2 columns):\n",
            " #   Column      Non-Null Count  Dtype \n",
            "---  ------      --------------  ----- \n",
            " 0   id          6 non-null      int64 \n",
            " 1   nome_depto  6 non-null      object\n",
            "dtypes: int64(1), object(1)\n",
            "memory usage: 144.0+ bytes\n"
          ]
        }
      ]
    },
    {
      "cell_type": "code",
      "source": [
        "df_dep.columns=['cod_depto', 'nome_depto']\n",
        "print(df_dep)"
      ],
      "metadata": {
        "colab": {
          "base_uri": "https://localhost:8080/"
        },
        "id": "au0___bv9Zz_",
        "outputId": "dda0f3cd-8eb6-4998-d8c5-58ad7a38ceec"
      },
      "execution_count": 24,
      "outputs": [
        {
          "output_type": "stream",
          "name": "stdout",
          "text": [
            "   cod_depto            nome_depto\n",
            "0          1                roupas\n",
            "1          2              calcados\n",
            "2          3                bolsas\n",
            "3          4            acessorios\n",
            "4          5             esportivo\n",
            "5          6  materiais_esportivos\n"
          ]
        }
      ]
    },
    {
      "cell_type": "code",
      "source": [
        "df_mer = pd.merge(df_fun, df_dep, how = 'inner', on = 'cod_depto')\n",
        "display(df_mer)"
      ],
      "metadata": {
        "colab": {
          "base_uri": "https://localhost:8080/",
          "height": 1000
        },
        "id": "2XSEM2zqGp67",
        "outputId": "c5266b46-5a73-47b7-cc40-188014e66ef9"
      },
      "execution_count": 25,
      "outputs": [
        {
          "output_type": "display_data",
          "data": {
            "text/plain": [
              "    mat           nome         rg sexo  cod_depto  salario  \\\n",
              "0     1            Ana    1283217    F          1  4550.55   \n",
              "1     5      Ana Paula     118221    F          1  4550.55   \n",
              "2    17      Ana Maria    4891221    F          1  4410.55   \n",
              "3    21        Beatriz   51233291    F          1  4532.65   \n",
              "4    29       Belatriz    7723321    F          1  4250.77   \n",
              "5    37            Bia   99189921    F          1  4567.67   \n",
              "6    47           John   67567654    M          1  8221.95   \n",
              "7     2          Maria     432789    F          5  4650.55   \n",
              "8     9          Paula    2123321    F          5  4610.55   \n",
              "9    15    Paulo Cesar    3567654    M          5  4622.55   \n",
              "10   25            Bea   61237721    F          5  4622.22   \n",
              "11   26        Carlota    6377789    F          5  4153.57   \n",
              "12   33           Bina    8123381    F          5  4652.52   \n",
              "13   34          Carly    8432779    F          5  4688.85   \n",
              "14   42            Eve   12432789    F          5  4259.51   \n",
              "15   45          Selly   23678321    F          5  4613.15   \n",
              "16   49        Marcela   26783321    F          5  8651.15   \n",
              "17    3   Paulo Marcos     587654    M          3  8258.95   \n",
              "18    4         Joelsi     456854    M          3  3345.01   \n",
              "19    8         Joelma    1456854    M          3  3145.88   \n",
              "20   12           Joel    2456784    M          3  3845.77   \n",
              "21   16             Jo    3668854    M          3  4651.52   \n",
              "22   20         Zoelma  445668954    M          3  3332.45   \n",
              "23   24         Debora   54776654    F          3  4345.44   \n",
              "24   28           Deby    5676541    M          3  3317.11   \n",
              "25   31     Jose Lucas   77567654    M          3  7255.55   \n",
              "26   36           Debi  847768954    F          3  3366.66   \n",
              "27   44          Sandy   56678654    F          3  4345.21   \n",
              "28   48           Kary   56667854    F          3  3332.34   \n",
              "29    6    Maria Joana    1432789    F          2  4132.01   \n",
              "30   10          Joana    2432789    F          2  4232.77   \n",
              "31   14        Mariana    3428879    F          2  4531.71   \n",
              "32   18        Mariane    4279889    F          2  4537.77   \n",
              "33   22          Carla   54327989    F          2  4537.32   \n",
              "34   27     Jose Pedro    6767654    M          2  8211.25   \n",
              "35   30        Carlina    7472789    F          2  4555.00   \n",
              "36   38           Cida   94789189    F          2  4892.89   \n",
              "37   46           Samy   43256789    M          2  4532.21   \n",
              "38   50           Mary   43275689    F          2  4577.44   \n",
              "39    7          Paulo    1567684    M          4  3258.95   \n",
              "40   11   Paulo Sergio     267654    M          4  4258.95   \n",
              "41   13       Anaelize    3288331    F          4  3258.51   \n",
              "42   19  Paulo Ricardo  489567654    M          4  5158.85   \n",
              "43   23           Jose    5567954    M          4  5658.15   \n",
              "44   35        Jenoino    8567754    M          4  5277.95   \n",
              "45   39          Jonas   95734354    M          4  7658.01   \n",
              "46   41         Sandra   13435321    F          4  8530.31   \n",
              "47   32        Deborah   74568754    F          6  3314.31   \n",
              "48   40         Evelyn   94566554    F          6  3302.02   \n",
              "49   43            Jon   56766854    M          6  7258.95   \n",
              "\n",
              "              nome_depto  \n",
              "0                 roupas  \n",
              "1                 roupas  \n",
              "2                 roupas  \n",
              "3                 roupas  \n",
              "4                 roupas  \n",
              "5                 roupas  \n",
              "6                 roupas  \n",
              "7              esportivo  \n",
              "8              esportivo  \n",
              "9              esportivo  \n",
              "10             esportivo  \n",
              "11             esportivo  \n",
              "12             esportivo  \n",
              "13             esportivo  \n",
              "14             esportivo  \n",
              "15             esportivo  \n",
              "16             esportivo  \n",
              "17                bolsas  \n",
              "18                bolsas  \n",
              "19                bolsas  \n",
              "20                bolsas  \n",
              "21                bolsas  \n",
              "22                bolsas  \n",
              "23                bolsas  \n",
              "24                bolsas  \n",
              "25                bolsas  \n",
              "26                bolsas  \n",
              "27                bolsas  \n",
              "28                bolsas  \n",
              "29              calcados  \n",
              "30              calcados  \n",
              "31              calcados  \n",
              "32              calcados  \n",
              "33              calcados  \n",
              "34              calcados  \n",
              "35              calcados  \n",
              "36              calcados  \n",
              "37              calcados  \n",
              "38              calcados  \n",
              "39            acessorios  \n",
              "40            acessorios  \n",
              "41            acessorios  \n",
              "42            acessorios  \n",
              "43            acessorios  \n",
              "44            acessorios  \n",
              "45            acessorios  \n",
              "46            acessorios  \n",
              "47  materiais_esportivos  \n",
              "48  materiais_esportivos  \n",
              "49  materiais_esportivos  "
            ],
            "text/html": [
              "\n",
              "  <div id=\"df-ad67d11b-055a-4b37-a287-a06db2bcc557\">\n",
              "    <div class=\"colab-df-container\">\n",
              "      <div>\n",
              "<style scoped>\n",
              "    .dataframe tbody tr th:only-of-type {\n",
              "        vertical-align: middle;\n",
              "    }\n",
              "\n",
              "    .dataframe tbody tr th {\n",
              "        vertical-align: top;\n",
              "    }\n",
              "\n",
              "    .dataframe thead th {\n",
              "        text-align: right;\n",
              "    }\n",
              "</style>\n",
              "<table border=\"1\" class=\"dataframe\">\n",
              "  <thead>\n",
              "    <tr style=\"text-align: right;\">\n",
              "      <th></th>\n",
              "      <th>mat</th>\n",
              "      <th>nome</th>\n",
              "      <th>rg</th>\n",
              "      <th>sexo</th>\n",
              "      <th>cod_depto</th>\n",
              "      <th>salario</th>\n",
              "      <th>nome_depto</th>\n",
              "    </tr>\n",
              "  </thead>\n",
              "  <tbody>\n",
              "    <tr>\n",
              "      <th>0</th>\n",
              "      <td>1</td>\n",
              "      <td>Ana</td>\n",
              "      <td>1283217</td>\n",
              "      <td>F</td>\n",
              "      <td>1</td>\n",
              "      <td>4550.55</td>\n",
              "      <td>roupas</td>\n",
              "    </tr>\n",
              "    <tr>\n",
              "      <th>1</th>\n",
              "      <td>5</td>\n",
              "      <td>Ana Paula</td>\n",
              "      <td>118221</td>\n",
              "      <td>F</td>\n",
              "      <td>1</td>\n",
              "      <td>4550.55</td>\n",
              "      <td>roupas</td>\n",
              "    </tr>\n",
              "    <tr>\n",
              "      <th>2</th>\n",
              "      <td>17</td>\n",
              "      <td>Ana Maria</td>\n",
              "      <td>4891221</td>\n",
              "      <td>F</td>\n",
              "      <td>1</td>\n",
              "      <td>4410.55</td>\n",
              "      <td>roupas</td>\n",
              "    </tr>\n",
              "    <tr>\n",
              "      <th>3</th>\n",
              "      <td>21</td>\n",
              "      <td>Beatriz</td>\n",
              "      <td>51233291</td>\n",
              "      <td>F</td>\n",
              "      <td>1</td>\n",
              "      <td>4532.65</td>\n",
              "      <td>roupas</td>\n",
              "    </tr>\n",
              "    <tr>\n",
              "      <th>4</th>\n",
              "      <td>29</td>\n",
              "      <td>Belatriz</td>\n",
              "      <td>7723321</td>\n",
              "      <td>F</td>\n",
              "      <td>1</td>\n",
              "      <td>4250.77</td>\n",
              "      <td>roupas</td>\n",
              "    </tr>\n",
              "    <tr>\n",
              "      <th>5</th>\n",
              "      <td>37</td>\n",
              "      <td>Bia</td>\n",
              "      <td>99189921</td>\n",
              "      <td>F</td>\n",
              "      <td>1</td>\n",
              "      <td>4567.67</td>\n",
              "      <td>roupas</td>\n",
              "    </tr>\n",
              "    <tr>\n",
              "      <th>6</th>\n",
              "      <td>47</td>\n",
              "      <td>John</td>\n",
              "      <td>67567654</td>\n",
              "      <td>M</td>\n",
              "      <td>1</td>\n",
              "      <td>8221.95</td>\n",
              "      <td>roupas</td>\n",
              "    </tr>\n",
              "    <tr>\n",
              "      <th>7</th>\n",
              "      <td>2</td>\n",
              "      <td>Maria</td>\n",
              "      <td>432789</td>\n",
              "      <td>F</td>\n",
              "      <td>5</td>\n",
              "      <td>4650.55</td>\n",
              "      <td>esportivo</td>\n",
              "    </tr>\n",
              "    <tr>\n",
              "      <th>8</th>\n",
              "      <td>9</td>\n",
              "      <td>Paula</td>\n",
              "      <td>2123321</td>\n",
              "      <td>F</td>\n",
              "      <td>5</td>\n",
              "      <td>4610.55</td>\n",
              "      <td>esportivo</td>\n",
              "    </tr>\n",
              "    <tr>\n",
              "      <th>9</th>\n",
              "      <td>15</td>\n",
              "      <td>Paulo Cesar</td>\n",
              "      <td>3567654</td>\n",
              "      <td>M</td>\n",
              "      <td>5</td>\n",
              "      <td>4622.55</td>\n",
              "      <td>esportivo</td>\n",
              "    </tr>\n",
              "    <tr>\n",
              "      <th>10</th>\n",
              "      <td>25</td>\n",
              "      <td>Bea</td>\n",
              "      <td>61237721</td>\n",
              "      <td>F</td>\n",
              "      <td>5</td>\n",
              "      <td>4622.22</td>\n",
              "      <td>esportivo</td>\n",
              "    </tr>\n",
              "    <tr>\n",
              "      <th>11</th>\n",
              "      <td>26</td>\n",
              "      <td>Carlota</td>\n",
              "      <td>6377789</td>\n",
              "      <td>F</td>\n",
              "      <td>5</td>\n",
              "      <td>4153.57</td>\n",
              "      <td>esportivo</td>\n",
              "    </tr>\n",
              "    <tr>\n",
              "      <th>12</th>\n",
              "      <td>33</td>\n",
              "      <td>Bina</td>\n",
              "      <td>8123381</td>\n",
              "      <td>F</td>\n",
              "      <td>5</td>\n",
              "      <td>4652.52</td>\n",
              "      <td>esportivo</td>\n",
              "    </tr>\n",
              "    <tr>\n",
              "      <th>13</th>\n",
              "      <td>34</td>\n",
              "      <td>Carly</td>\n",
              "      <td>8432779</td>\n",
              "      <td>F</td>\n",
              "      <td>5</td>\n",
              "      <td>4688.85</td>\n",
              "      <td>esportivo</td>\n",
              "    </tr>\n",
              "    <tr>\n",
              "      <th>14</th>\n",
              "      <td>42</td>\n",
              "      <td>Eve</td>\n",
              "      <td>12432789</td>\n",
              "      <td>F</td>\n",
              "      <td>5</td>\n",
              "      <td>4259.51</td>\n",
              "      <td>esportivo</td>\n",
              "    </tr>\n",
              "    <tr>\n",
              "      <th>15</th>\n",
              "      <td>45</td>\n",
              "      <td>Selly</td>\n",
              "      <td>23678321</td>\n",
              "      <td>F</td>\n",
              "      <td>5</td>\n",
              "      <td>4613.15</td>\n",
              "      <td>esportivo</td>\n",
              "    </tr>\n",
              "    <tr>\n",
              "      <th>16</th>\n",
              "      <td>49</td>\n",
              "      <td>Marcela</td>\n",
              "      <td>26783321</td>\n",
              "      <td>F</td>\n",
              "      <td>5</td>\n",
              "      <td>8651.15</td>\n",
              "      <td>esportivo</td>\n",
              "    </tr>\n",
              "    <tr>\n",
              "      <th>17</th>\n",
              "      <td>3</td>\n",
              "      <td>Paulo Marcos</td>\n",
              "      <td>587654</td>\n",
              "      <td>M</td>\n",
              "      <td>3</td>\n",
              "      <td>8258.95</td>\n",
              "      <td>bolsas</td>\n",
              "    </tr>\n",
              "    <tr>\n",
              "      <th>18</th>\n",
              "      <td>4</td>\n",
              "      <td>Joelsi</td>\n",
              "      <td>456854</td>\n",
              "      <td>M</td>\n",
              "      <td>3</td>\n",
              "      <td>3345.01</td>\n",
              "      <td>bolsas</td>\n",
              "    </tr>\n",
              "    <tr>\n",
              "      <th>19</th>\n",
              "      <td>8</td>\n",
              "      <td>Joelma</td>\n",
              "      <td>1456854</td>\n",
              "      <td>M</td>\n",
              "      <td>3</td>\n",
              "      <td>3145.88</td>\n",
              "      <td>bolsas</td>\n",
              "    </tr>\n",
              "    <tr>\n",
              "      <th>20</th>\n",
              "      <td>12</td>\n",
              "      <td>Joel</td>\n",
              "      <td>2456784</td>\n",
              "      <td>M</td>\n",
              "      <td>3</td>\n",
              "      <td>3845.77</td>\n",
              "      <td>bolsas</td>\n",
              "    </tr>\n",
              "    <tr>\n",
              "      <th>21</th>\n",
              "      <td>16</td>\n",
              "      <td>Jo</td>\n",
              "      <td>3668854</td>\n",
              "      <td>M</td>\n",
              "      <td>3</td>\n",
              "      <td>4651.52</td>\n",
              "      <td>bolsas</td>\n",
              "    </tr>\n",
              "    <tr>\n",
              "      <th>22</th>\n",
              "      <td>20</td>\n",
              "      <td>Zoelma</td>\n",
              "      <td>445668954</td>\n",
              "      <td>M</td>\n",
              "      <td>3</td>\n",
              "      <td>3332.45</td>\n",
              "      <td>bolsas</td>\n",
              "    </tr>\n",
              "    <tr>\n",
              "      <th>23</th>\n",
              "      <td>24</td>\n",
              "      <td>Debora</td>\n",
              "      <td>54776654</td>\n",
              "      <td>F</td>\n",
              "      <td>3</td>\n",
              "      <td>4345.44</td>\n",
              "      <td>bolsas</td>\n",
              "    </tr>\n",
              "    <tr>\n",
              "      <th>24</th>\n",
              "      <td>28</td>\n",
              "      <td>Deby</td>\n",
              "      <td>5676541</td>\n",
              "      <td>M</td>\n",
              "      <td>3</td>\n",
              "      <td>3317.11</td>\n",
              "      <td>bolsas</td>\n",
              "    </tr>\n",
              "    <tr>\n",
              "      <th>25</th>\n",
              "      <td>31</td>\n",
              "      <td>Jose Lucas</td>\n",
              "      <td>77567654</td>\n",
              "      <td>M</td>\n",
              "      <td>3</td>\n",
              "      <td>7255.55</td>\n",
              "      <td>bolsas</td>\n",
              "    </tr>\n",
              "    <tr>\n",
              "      <th>26</th>\n",
              "      <td>36</td>\n",
              "      <td>Debi</td>\n",
              "      <td>847768954</td>\n",
              "      <td>F</td>\n",
              "      <td>3</td>\n",
              "      <td>3366.66</td>\n",
              "      <td>bolsas</td>\n",
              "    </tr>\n",
              "    <tr>\n",
              "      <th>27</th>\n",
              "      <td>44</td>\n",
              "      <td>Sandy</td>\n",
              "      <td>56678654</td>\n",
              "      <td>F</td>\n",
              "      <td>3</td>\n",
              "      <td>4345.21</td>\n",
              "      <td>bolsas</td>\n",
              "    </tr>\n",
              "    <tr>\n",
              "      <th>28</th>\n",
              "      <td>48</td>\n",
              "      <td>Kary</td>\n",
              "      <td>56667854</td>\n",
              "      <td>F</td>\n",
              "      <td>3</td>\n",
              "      <td>3332.34</td>\n",
              "      <td>bolsas</td>\n",
              "    </tr>\n",
              "    <tr>\n",
              "      <th>29</th>\n",
              "      <td>6</td>\n",
              "      <td>Maria Joana</td>\n",
              "      <td>1432789</td>\n",
              "      <td>F</td>\n",
              "      <td>2</td>\n",
              "      <td>4132.01</td>\n",
              "      <td>calcados</td>\n",
              "    </tr>\n",
              "    <tr>\n",
              "      <th>30</th>\n",
              "      <td>10</td>\n",
              "      <td>Joana</td>\n",
              "      <td>2432789</td>\n",
              "      <td>F</td>\n",
              "      <td>2</td>\n",
              "      <td>4232.77</td>\n",
              "      <td>calcados</td>\n",
              "    </tr>\n",
              "    <tr>\n",
              "      <th>31</th>\n",
              "      <td>14</td>\n",
              "      <td>Mariana</td>\n",
              "      <td>3428879</td>\n",
              "      <td>F</td>\n",
              "      <td>2</td>\n",
              "      <td>4531.71</td>\n",
              "      <td>calcados</td>\n",
              "    </tr>\n",
              "    <tr>\n",
              "      <th>32</th>\n",
              "      <td>18</td>\n",
              "      <td>Mariane</td>\n",
              "      <td>4279889</td>\n",
              "      <td>F</td>\n",
              "      <td>2</td>\n",
              "      <td>4537.77</td>\n",
              "      <td>calcados</td>\n",
              "    </tr>\n",
              "    <tr>\n",
              "      <th>33</th>\n",
              "      <td>22</td>\n",
              "      <td>Carla</td>\n",
              "      <td>54327989</td>\n",
              "      <td>F</td>\n",
              "      <td>2</td>\n",
              "      <td>4537.32</td>\n",
              "      <td>calcados</td>\n",
              "    </tr>\n",
              "    <tr>\n",
              "      <th>34</th>\n",
              "      <td>27</td>\n",
              "      <td>Jose Pedro</td>\n",
              "      <td>6767654</td>\n",
              "      <td>M</td>\n",
              "      <td>2</td>\n",
              "      <td>8211.25</td>\n",
              "      <td>calcados</td>\n",
              "    </tr>\n",
              "    <tr>\n",
              "      <th>35</th>\n",
              "      <td>30</td>\n",
              "      <td>Carlina</td>\n",
              "      <td>7472789</td>\n",
              "      <td>F</td>\n",
              "      <td>2</td>\n",
              "      <td>4555.00</td>\n",
              "      <td>calcados</td>\n",
              "    </tr>\n",
              "    <tr>\n",
              "      <th>36</th>\n",
              "      <td>38</td>\n",
              "      <td>Cida</td>\n",
              "      <td>94789189</td>\n",
              "      <td>F</td>\n",
              "      <td>2</td>\n",
              "      <td>4892.89</td>\n",
              "      <td>calcados</td>\n",
              "    </tr>\n",
              "    <tr>\n",
              "      <th>37</th>\n",
              "      <td>46</td>\n",
              "      <td>Samy</td>\n",
              "      <td>43256789</td>\n",
              "      <td>M</td>\n",
              "      <td>2</td>\n",
              "      <td>4532.21</td>\n",
              "      <td>calcados</td>\n",
              "    </tr>\n",
              "    <tr>\n",
              "      <th>38</th>\n",
              "      <td>50</td>\n",
              "      <td>Mary</td>\n",
              "      <td>43275689</td>\n",
              "      <td>F</td>\n",
              "      <td>2</td>\n",
              "      <td>4577.44</td>\n",
              "      <td>calcados</td>\n",
              "    </tr>\n",
              "    <tr>\n",
              "      <th>39</th>\n",
              "      <td>7</td>\n",
              "      <td>Paulo</td>\n",
              "      <td>1567684</td>\n",
              "      <td>M</td>\n",
              "      <td>4</td>\n",
              "      <td>3258.95</td>\n",
              "      <td>acessorios</td>\n",
              "    </tr>\n",
              "    <tr>\n",
              "      <th>40</th>\n",
              "      <td>11</td>\n",
              "      <td>Paulo Sergio</td>\n",
              "      <td>267654</td>\n",
              "      <td>M</td>\n",
              "      <td>4</td>\n",
              "      <td>4258.95</td>\n",
              "      <td>acessorios</td>\n",
              "    </tr>\n",
              "    <tr>\n",
              "      <th>41</th>\n",
              "      <td>13</td>\n",
              "      <td>Anaelize</td>\n",
              "      <td>3288331</td>\n",
              "      <td>F</td>\n",
              "      <td>4</td>\n",
              "      <td>3258.51</td>\n",
              "      <td>acessorios</td>\n",
              "    </tr>\n",
              "    <tr>\n",
              "      <th>42</th>\n",
              "      <td>19</td>\n",
              "      <td>Paulo Ricardo</td>\n",
              "      <td>489567654</td>\n",
              "      <td>M</td>\n",
              "      <td>4</td>\n",
              "      <td>5158.85</td>\n",
              "      <td>acessorios</td>\n",
              "    </tr>\n",
              "    <tr>\n",
              "      <th>43</th>\n",
              "      <td>23</td>\n",
              "      <td>Jose</td>\n",
              "      <td>5567954</td>\n",
              "      <td>M</td>\n",
              "      <td>4</td>\n",
              "      <td>5658.15</td>\n",
              "      <td>acessorios</td>\n",
              "    </tr>\n",
              "    <tr>\n",
              "      <th>44</th>\n",
              "      <td>35</td>\n",
              "      <td>Jenoino</td>\n",
              "      <td>8567754</td>\n",
              "      <td>M</td>\n",
              "      <td>4</td>\n",
              "      <td>5277.95</td>\n",
              "      <td>acessorios</td>\n",
              "    </tr>\n",
              "    <tr>\n",
              "      <th>45</th>\n",
              "      <td>39</td>\n",
              "      <td>Jonas</td>\n",
              "      <td>95734354</td>\n",
              "      <td>M</td>\n",
              "      <td>4</td>\n",
              "      <td>7658.01</td>\n",
              "      <td>acessorios</td>\n",
              "    </tr>\n",
              "    <tr>\n",
              "      <th>46</th>\n",
              "      <td>41</td>\n",
              "      <td>Sandra</td>\n",
              "      <td>13435321</td>\n",
              "      <td>F</td>\n",
              "      <td>4</td>\n",
              "      <td>8530.31</td>\n",
              "      <td>acessorios</td>\n",
              "    </tr>\n",
              "    <tr>\n",
              "      <th>47</th>\n",
              "      <td>32</td>\n",
              "      <td>Deborah</td>\n",
              "      <td>74568754</td>\n",
              "      <td>F</td>\n",
              "      <td>6</td>\n",
              "      <td>3314.31</td>\n",
              "      <td>materiais_esportivos</td>\n",
              "    </tr>\n",
              "    <tr>\n",
              "      <th>48</th>\n",
              "      <td>40</td>\n",
              "      <td>Evelyn</td>\n",
              "      <td>94566554</td>\n",
              "      <td>F</td>\n",
              "      <td>6</td>\n",
              "      <td>3302.02</td>\n",
              "      <td>materiais_esportivos</td>\n",
              "    </tr>\n",
              "    <tr>\n",
              "      <th>49</th>\n",
              "      <td>43</td>\n",
              "      <td>Jon</td>\n",
              "      <td>56766854</td>\n",
              "      <td>M</td>\n",
              "      <td>6</td>\n",
              "      <td>7258.95</td>\n",
              "      <td>materiais_esportivos</td>\n",
              "    </tr>\n",
              "  </tbody>\n",
              "</table>\n",
              "</div>\n",
              "      <button class=\"colab-df-convert\" onclick=\"convertToInteractive('df-ad67d11b-055a-4b37-a287-a06db2bcc557')\"\n",
              "              title=\"Convert this dataframe to an interactive table.\"\n",
              "              style=\"display:none;\">\n",
              "        \n",
              "  <svg xmlns=\"http://www.w3.org/2000/svg\" height=\"24px\"viewBox=\"0 0 24 24\"\n",
              "       width=\"24px\">\n",
              "    <path d=\"M0 0h24v24H0V0z\" fill=\"none\"/>\n",
              "    <path d=\"M18.56 5.44l.94 2.06.94-2.06 2.06-.94-2.06-.94-.94-2.06-.94 2.06-2.06.94zm-11 1L8.5 8.5l.94-2.06 2.06-.94-2.06-.94L8.5 2.5l-.94 2.06-2.06.94zm10 10l.94 2.06.94-2.06 2.06-.94-2.06-.94-.94-2.06-.94 2.06-2.06.94z\"/><path d=\"M17.41 7.96l-1.37-1.37c-.4-.4-.92-.59-1.43-.59-.52 0-1.04.2-1.43.59L10.3 9.45l-7.72 7.72c-.78.78-.78 2.05 0 2.83L4 21.41c.39.39.9.59 1.41.59.51 0 1.02-.2 1.41-.59l7.78-7.78 2.81-2.81c.8-.78.8-2.07 0-2.86zM5.41 20L4 18.59l7.72-7.72 1.47 1.35L5.41 20z\"/>\n",
              "  </svg>\n",
              "      </button>\n",
              "      \n",
              "  <style>\n",
              "    .colab-df-container {\n",
              "      display:flex;\n",
              "      flex-wrap:wrap;\n",
              "      gap: 12px;\n",
              "    }\n",
              "\n",
              "    .colab-df-convert {\n",
              "      background-color: #E8F0FE;\n",
              "      border: none;\n",
              "      border-radius: 50%;\n",
              "      cursor: pointer;\n",
              "      display: none;\n",
              "      fill: #1967D2;\n",
              "      height: 32px;\n",
              "      padding: 0 0 0 0;\n",
              "      width: 32px;\n",
              "    }\n",
              "\n",
              "    .colab-df-convert:hover {\n",
              "      background-color: #E2EBFA;\n",
              "      box-shadow: 0px 1px 2px rgba(60, 64, 67, 0.3), 0px 1px 3px 1px rgba(60, 64, 67, 0.15);\n",
              "      fill: #174EA6;\n",
              "    }\n",
              "\n",
              "    [theme=dark] .colab-df-convert {\n",
              "      background-color: #3B4455;\n",
              "      fill: #D2E3FC;\n",
              "    }\n",
              "\n",
              "    [theme=dark] .colab-df-convert:hover {\n",
              "      background-color: #434B5C;\n",
              "      box-shadow: 0px 1px 3px 1px rgba(0, 0, 0, 0.15);\n",
              "      filter: drop-shadow(0px 1px 2px rgba(0, 0, 0, 0.3));\n",
              "      fill: #FFFFFF;\n",
              "    }\n",
              "  </style>\n",
              "\n",
              "      <script>\n",
              "        const buttonEl =\n",
              "          document.querySelector('#df-ad67d11b-055a-4b37-a287-a06db2bcc557 button.colab-df-convert');\n",
              "        buttonEl.style.display =\n",
              "          google.colab.kernel.accessAllowed ? 'block' : 'none';\n",
              "\n",
              "        async function convertToInteractive(key) {\n",
              "          const element = document.querySelector('#df-ad67d11b-055a-4b37-a287-a06db2bcc557');\n",
              "          const dataTable =\n",
              "            await google.colab.kernel.invokeFunction('convertToInteractive',\n",
              "                                                     [key], {});\n",
              "          if (!dataTable) return;\n",
              "\n",
              "          const docLinkHtml = 'Like what you see? Visit the ' +\n",
              "            '<a target=\"_blank\" href=https://colab.research.google.com/notebooks/data_table.ipynb>data table notebook</a>'\n",
              "            + ' to learn more about interactive tables.';\n",
              "          element.innerHTML = '';\n",
              "          dataTable['output_type'] = 'display_data';\n",
              "          await google.colab.output.renderOutput(dataTable, element);\n",
              "          const docLink = document.createElement('div');\n",
              "          docLink.innerHTML = docLinkHtml;\n",
              "          element.appendChild(docLink);\n",
              "        }\n",
              "      </script>\n",
              "    </div>\n",
              "  </div>\n",
              "  "
            ]
          },
          "metadata": {}
        }
      ]
    },
    {
      "cell_type": "markdown",
      "source": [
        "Query:\n",
        "\n",
        "q13) Quais as pessoas do departamento 'materiais esportivos?"
      ],
      "metadata": {
        "id": "A0RjOYko-3NG"
      }
    },
    {
      "cell_type": "code",
      "source": [
        "q13=df_fun[ (df_fun['cod_depto'] ==6) ]\n",
        "print(q11)"
      ],
      "metadata": {
        "colab": {
          "base_uri": "https://localhost:8080/"
        },
        "id": "LZxd2M_fGqCw",
        "outputId": "ee3431c6-2cdd-47fa-be76-8d70fb13bacc"
      },
      "execution_count": 26,
      "outputs": [
        {
          "output_type": "stream",
          "name": "stdout",
          "text": [
            "    mat     nome        rg sexo  cod_depto  salario\n",
            "31   32  Deborah  74568754    F          6  3314.31\n",
            "39   40   Evelyn  94566554    F          6  3302.02\n",
            "42   43      Jon  56766854    M          6  7258.95\n"
          ]
        }
      ]
    },
    {
      "cell_type": "code",
      "source": [
        "q13=df_mer[ (df_mer['nome_depto'] =='materiais_esportivos') ]\n",
        "print(q13)\n",
        "print(df_mer.loc[[47,48,49],['nome','salario','nome_depto']])"
      ],
      "metadata": {
        "colab": {
          "base_uri": "https://localhost:8080/"
        },
        "id": "svzzdRbuGqJQ",
        "outputId": "046f608d-f522-4aef-b27f-aeb817c6210e"
      },
      "execution_count": 27,
      "outputs": [
        {
          "output_type": "stream",
          "name": "stdout",
          "text": [
            "    mat     nome        rg sexo  cod_depto  salario            nome_depto\n",
            "47   32  Deborah  74568754    F          6  3314.31  materiais_esportivos\n",
            "48   40   Evelyn  94566554    F          6  3302.02  materiais_esportivos\n",
            "49   43      Jon  56766854    M          6  7258.95  materiais_esportivos\n",
            "       nome  salario            nome_depto\n",
            "47  Deborah  3314.31  materiais_esportivos\n",
            "48   Evelyn  3302.02  materiais_esportivos\n",
            "49      Jon  7258.95  materiais_esportivos\n"
          ]
        }
      ]
    },
    {
      "cell_type": "markdown",
      "source": [
        "# FAZENDO GRÁFICOS COM O MATPLOTLIB"
      ],
      "metadata": {
        "id": "dp980JegA8YS"
      }
    },
    {
      "cell_type": "code",
      "source": [
        "x1=df_mer['nome_depto'].value_counts().index\n",
        "print(x1)\n",
        "y1=df_mer['nome_depto'].value_counts()\n",
        "print(y1)"
      ],
      "metadata": {
        "colab": {
          "base_uri": "https://localhost:8080/"
        },
        "id": "G9Z6DNNvA7my",
        "outputId": "42919d48-a07c-4b70-f59d-5cc22178b63e"
      },
      "execution_count": 28,
      "outputs": [
        {
          "output_type": "stream",
          "name": "stdout",
          "text": [
            "Index(['bolsas', 'esportivo', 'calcados', 'acessorios', 'roupas',\n",
            "       'materiais_esportivos'],\n",
            "      dtype='object')\n",
            "bolsas                  12\n",
            "esportivo               10\n",
            "calcados                10\n",
            "acessorios               8\n",
            "roupas                   7\n",
            "materiais_esportivos     3\n",
            "Name: nome_depto, dtype: int64\n"
          ]
        }
      ]
    },
    {
      "cell_type": "code",
      "source": [
        "fig = plt.figure(figsize =(10, 5)) \n",
        "paleta_de_cores=['blue','red','yellow','black','green','pink']\n",
        "plt.bar(x1,y1,color=paleta_de_cores)\n",
        "plt.ylabel('quantidade de funcionários')\n",
        "plt.title('departamento')\n",
        "plt.grid()"
      ],
      "metadata": {
        "colab": {
          "base_uri": "https://localhost:8080/",
          "height": 337
        },
        "id": "QUV5adnWBl2v",
        "outputId": "a05ac509-172c-4215-b392-58b6b1e07033"
      },
      "execution_count": 29,
      "outputs": [
        {
          "output_type": "display_data",
          "data": {
            "text/plain": [
              "<Figure size 720x360 with 1 Axes>"
            ],
            "image/png": "[encoded data removed]"
          },
          "metadata": {
            "needs_background": "light"
          }
        }
      ]
    },
    {
      "cell_type": "code",
      "source": [
        "fig = plt.figure(figsize =(10, 10)) \n",
        "plt.pie(y1,labels=x1,autopct=\"%0.0f%%\")\n",
        "plt.show()"
      ],
      "metadata": {
        "colab": {
          "base_uri": "https://localhost:8080/",
          "height": 575
        },
        "id": "ekwbGemODJkv",
        "outputId": "69a4be21-7df4-4774-bc97-7c4d11a3c7d7"
      },
      "execution_count": 30,
      "outputs": [
        {
          "output_type": "display_data",
          "data": {
            "text/plain": [
              "<Figure size 720x720 with 1 Axes>"
            ],
            "image/png": "[encoded data removed]"
          },
          "metadata": {}
        }
      ]
    },
    {
      "cell_type": "code",
      "source": [
        "x2=df_mer['sexo'].value_counts().index\n",
        "print(x2)\n",
        "y2=df_mer['sexo'].value_counts()\n",
        "print(y2)"
      ],
      "metadata": {
        "colab": {
          "base_uri": "https://localhost:8080/"
        },
        "id": "2UL2bdBsCv06",
        "outputId": "a4377396-dd59-4637-c577-39a35d499401"
      },
      "execution_count": 31,
      "outputs": [
        {
          "output_type": "stream",
          "name": "stdout",
          "text": [
            "Index(['F', 'M'], dtype='object')\n",
            "F    31\n",
            "M    19\n",
            "Name: sexo, dtype: int64\n"
          ]
        }
      ]
    },
    {
      "cell_type": "code",
      "source": [
        "fig = plt.figure(figsize =(10, 5)) \n",
        "paleta_de_cores=['blue','red']\n",
        "plt.bar(x2,y2,color=paleta_de_cores)\n",
        "plt.ylabel('quantidade de funcionários')\n",
        "plt.title('sexo')\n",
        "plt.grid()"
      ],
      "metadata": {
        "colab": {
          "base_uri": "https://localhost:8080/",
          "height": 336
        },
        "id": "vmwRCv9EC9XD",
        "outputId": "cd435aa4-9e4a-47eb-e312-2db6e1a6c467"
      },
      "execution_count": 32,
      "outputs": [
        {
          "output_type": "display_data",
          "data": {
            "text/plain": [
              "<Figure size 720x360 with 1 Axes>"
            ],
            "image/png": "[encoded data removed]"
          },
          "metadata": {
            "needs_background": "light"
          }
        }
      ]
    },
    {
      "cell_type": "code",
      "source": [
        "sel_sal_sex=(df_mer.groupby('sexo').mean().reset_index())\n",
        "print(sel_sal_sex)"
      ],
      "metadata": {
        "colab": {
          "base_uri": "https://localhost:8080/"
        },
        "id": "gk03IsG1C9px",
        "outputId": "a7dc57a2-b185-49a4-d6d0-d3a13b01fdae"
      },
      "execution_count": 33,
      "outputs": [
        {
          "output_type": "stream",
          "name": "stdout",
          "text": [
            "  sexo        mat            rg  cod_depto      salario\n",
            "0    F  27.129032  5.571782e+07   3.193548  4566.339355\n",
            "1    M  22.842105  6.930210e+07   3.368421  5330.000526\n"
          ]
        }
      ]
    },
    {
      "cell_type": "code",
      "source": [
        "x=sel_sal_sex['sexo']\n",
        "y=sel_sal_sex['salario']"
      ],
      "metadata": {
        "id": "KeDhsxwNC91y"
      },
      "execution_count": 34,
      "outputs": []
    },
    {
      "cell_type": "code",
      "source": [
        "paleta_de_cores=['green','yellow']\n",
        "plt.bar(x,y,color=paleta_de_cores)\n",
        "plt.show()"
      ],
      "metadata": {
        "colab": {
          "base_uri": "https://localhost:8080/",
          "height": 265
        },
        "id": "kI4T1nz7C-Ch",
        "outputId": "0839f179-5190-48f5-f5da-f6a58548851b"
      },
      "execution_count": 35,
      "outputs": [
        {
          "output_type": "display_data",
          "data": {
            "text/plain": [
              "<Figure size 432x288 with 1 Axes>"
            ],
            "image/png": "[encoded data removed]"
          },
          "metadata": {
            "needs_background": "light"
          }
        }
      ]
    },
    {
      "cell_type": "code",
      "source": [
        "sel_sal_dep=(df_mer.groupby('nome_depto').mean().reset_index())\n",
        "print(sel_sal_dep)"
      ],
      "metadata": {
        "colab": {
          "base_uri": "https://localhost:8080/"
        },
        "id": "_VwIVRVfFG2I",
        "outputId": "831b09d5-fbf2-4813-f423-08072d825234"
      },
      "execution_count": 36,
      "outputs": [
        {
          "output_type": "stream",
          "name": "stdout",
          "text": [
            "             nome_depto        mat            rg  cod_depto      salario\n",
            "0            acessorios  23.500000  7.724959e+07        4.0  5382.460000\n",
            "1                bolsas  22.833333  1.294527e+08        3.0  4378.490833\n",
            "2              calcados  26.100000  2.614644e+07        2.0  4874.037000\n",
            "3             esportivo  28.000000  1.531899e+07        5.0  4952.462000\n",
            "4  materiais_esportivos  38.333333  7.530072e+07        6.0  4625.093333\n",
            "5                roupas  22.428571  3.314384e+07        1.0  5012.098571\n"
          ]
        }
      ]
    },
    {
      "cell_type": "code",
      "source": [
        "x=sel_sal_dep['nome_depto']\n",
        "y=sel_sal_dep['salario']"
      ],
      "metadata": {
        "id": "NX5n6ZZxFSKo"
      },
      "execution_count": 37,
      "outputs": []
    },
    {
      "cell_type": "code",
      "source": [
        "paleta_de_cores=['blue','red','yellow','black','green','pink']\n",
        "fig = plt.figure(figsize =(10, 10)) \n",
        "plt.bar(x,y,color=paleta_de_cores)\n",
        "plt.show()"
      ],
      "metadata": {
        "colab": {
          "base_uri": "https://localhost:8080/",
          "height": 592
        },
        "id": "xcNliF-IFS3q",
        "outputId": "046cc1e1-9a58-4b8b-eb6f-4a4d78262e17"
      },
      "execution_count": 38,
      "outputs": [
        {
          "output_type": "display_data",
          "data": {
            "text/plain": [
              "<Figure size 720x720 with 1 Axes>"
            ],
            "image/png": "[encoded data removed]"
          },
          "metadata": {
            "needs_background": "light"
          }
        }
      ]
    },
    {
      "cell_type": "code",
      "source": [],
      "metadata": {
        "id": "_Svof4d-9mq2"
      },
      "execution_count": 38,
      "outputs": []
    }
  ]
}